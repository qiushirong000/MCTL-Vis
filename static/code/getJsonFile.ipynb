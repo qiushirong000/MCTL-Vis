{
 "cells": [
  {
   "cell_type": "code",
   "execution_count": 1,
   "metadata": {},
   "outputs": [],
   "source": [
    "import json\n",
    "import os\n",
    "import pandas as pd\n",
    "import numpy as np"
   ]
  },
  {
   "cell_type": "code",
   "execution_count": 2,
   "metadata": {},
   "outputs": [],
   "source": [
    "# 重写JSONEncoder中的default方法\n",
    "class NumpyArrayEncoder(json.JSONEncoder):\n",
    "    def default(self, obj):\n",
    "        if isinstance(obj, np.ndarray):\n",
    "            return obj.tolist()\n",
    "        return json.JSONEncoder.default(self, obj)\n",
    "\n",
    "# 字典转json,并存储\n",
    "def saveAsJson(file_data, save_path, save_name):\n",
    "    if not os.path.exists(save_path):\n",
    "        os.makedirs(save_path)\n",
    "    f = open(save_path + save_name + '.json', 'w')\n",
    "    file_data = json.dumps(file_data, ensure_ascii=False, indent=4, separators=(',', ':'))\n",
    "    f.write(file_data)\n",
    "    f.close()\n",
    "    return"
   ]
  },
  {
   "attachments": {},
   "cell_type": "markdown",
   "metadata": {},
   "source": [
    "### 工况相似度"
   ]
  },
  {
   "cell_type": "code",
   "execution_count": 7,
   "metadata": {},
   "outputs": [],
   "source": [
    "# 数据存储格式\n",
    "file_data = {\n",
    "    'JSD': None,\n",
    "    'KLD': None,\n",
    "}\n",
    "file_data['JSD'] = json.dumps([[0.00E+00, 1.82E-01, 2.22E-01, 3.19E-01, 3.74E-01, 4.10E-01, 4.55E-01, 5.11E-01, 5.50E-01, 5.39E-01],\n",
    "                    [1.82E-01, 0.00E+00, 1.64E-02, 2.57E-02, 3.16E-02, 5.99E-02, 6.75E-02, 8.61E-02, 1.15E-01, 1.30E-01],\n",
    "                    [2.22E-01, 1.64E-02, 0.00E+00, 9.35E-03, 2.01E-02, 2.77E-02, 4.09E-02, 5.98E-02, 8.58E-02, 9.28E-02],\n",
    "                    [3.19E-01, 2.57E-02, 9.35E-03, 0.00E+00, 1.70E-02, 2.03E-02, 2.51E-02, 3.10E-02, 4.60E-02, 5.37E-02],\n",
    "                    [3.74E-01, 3.16E-02, 2.01E-02, 1.70E-02, 0.00E+00, 1.33E-02, 2.06E-02, 2.32E-02, 3.65E-02, 4.08E-02],\n",
    "                    [4.10E-01, 5.99E-02, 2.77E-02, 2.03E-02, 1.33E-02, 0.00E+00, 1.26E-02, 1.69E-02, 2.44E-02, 2.73E-02],\n",
    "                    [4.55E-01, 6.75E-02, 4.09E-02, 2.51E-02, 2.06E-02, 1.26E-02, 0.00E+00, 1.08E-02, 1.59E-02, 1.73E-02],\n",
    "                    [5.11E-01, 8.61E-02, 5.98E-02, 3.10E-02, 2.32E-02, 1.69E-02, 1.08E-02, 0.00E+00, 1.34E-02, 1.41E-02],\n",
    "                    [5.50E-01, 1.15E-01, 8.58E-02, 4.60E-02, 3.65E-02, 2.44E-02, 1.59E-02, 1.34E-02, 0.00E+00, 1.14E-02],\n",
    "                    [5.39E-01, 1.30E-01, 9.28E-02, 5.37E-02, 4.08E-02, 2.73E-02, 1.73E-02, 1.41E-02, 1.14E-02, 0.00E+00]], cls=NumpyArrayEncoder)\n",
    "file_data['KLD'] = json.dumps(np.zeros((10, 10)), cls=NumpyArrayEncoder)\n",
    "\n",
    "saveAsJson(file_data,'../data/', 'conditionSimilarity')"
   ]
  }
 ],
 "metadata": {
  "kernelspec": {
   "display_name": "gpu_tf",
   "language": "python",
   "name": "gpu_tf"
  },
  "orig_nbformat": 4
 },
 "nbformat": 4,
 "nbformat_minor": 2
}
